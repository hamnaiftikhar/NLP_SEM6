{
 "cells": [
  {
   "cell_type": "code",
   "execution_count": 13,
   "id": "8457756a",
   "metadata": {},
   "outputs": [],
   "source": [
    "import nltk\n",
    "from nltk.corpus import stopwords\n",
    "from nltk.tokenize import word_tokenize"
   ]
  },
  {
   "cell_type": "code",
   "execution_count": 14,
   "id": "c1a4a731",
   "metadata": {},
   "outputs": [],
   "source": [
    "#nltk.download('stopwords')"
   ]
  },
  {
   "cell_type": "code",
   "execution_count": 15,
   "id": "fb9675bd",
   "metadata": {},
   "outputs": [],
   "source": [
    "# sample text to be preprocessed\n",
    "text = \"The quick brown fox jumped over the lazy dog. The quick brown fox jumped over the lazy dog. The quick brown fox jumped over the lazy dog.\"\n"
   ]
  },
  {
   "cell_type": "markdown",
   "id": "571eec36",
   "metadata": {},
   "source": [
    "##### Task 2.1 Tokenization"
   ]
  },
  {
   "cell_type": "code",
   "execution_count": 16,
   "id": "d0b4fbd3",
   "metadata": {},
   "outputs": [],
   "source": [
    "# Tokenization\n",
    "tokens = word_tokenize(text)"
   ]
  },
  {
   "cell_type": "code",
   "execution_count": 17,
   "id": "3d89352c",
   "metadata": {},
   "outputs": [
    {
     "data": {
      "text/plain": [
       "['The',\n",
       " 'quick',\n",
       " 'brown',\n",
       " 'fox',\n",
       " 'jumped',\n",
       " 'over',\n",
       " 'the',\n",
       " 'lazy',\n",
       " 'dog',\n",
       " '.',\n",
       " 'The',\n",
       " 'quick',\n",
       " 'brown',\n",
       " 'fox',\n",
       " 'jumped',\n",
       " 'over',\n",
       " 'the',\n",
       " 'lazy',\n",
       " 'dog',\n",
       " '.',\n",
       " 'The',\n",
       " 'quick',\n",
       " 'brown',\n",
       " 'fox',\n",
       " 'jumped',\n",
       " 'over',\n",
       " 'the',\n",
       " 'lazy',\n",
       " 'dog',\n",
       " '.']"
      ]
     },
     "execution_count": 17,
     "metadata": {},
     "output_type": "execute_result"
    }
   ],
   "source": [
    "tokens"
   ]
  },
  {
   "cell_type": "markdown",
   "id": "01c8062d",
   "metadata": {},
   "source": [
    "##### Task 2.2 Stop words removal"
   ]
  },
  {
   "cell_type": "code",
   "execution_count": 18,
   "id": "86023567",
   "metadata": {},
   "outputs": [],
   "source": [
    "# Stopword Removal\n",
    "stop_words = set(stopwords.words('english'))\n",
    "filtered_tokens = [token for token in tokens if token.lower() not in stop_words]"
   ]
  },
  {
   "cell_type": "code",
   "execution_count": 19,
   "id": "bc0f5c88",
   "metadata": {},
   "outputs": [
    {
     "data": {
      "text/plain": [
       "['quick',\n",
       " 'brown',\n",
       " 'fox',\n",
       " 'jumped',\n",
       " 'lazy',\n",
       " 'dog',\n",
       " '.',\n",
       " 'quick',\n",
       " 'brown',\n",
       " 'fox',\n",
       " 'jumped',\n",
       " 'lazy',\n",
       " 'dog',\n",
       " '.',\n",
       " 'quick',\n",
       " 'brown',\n",
       " 'fox',\n",
       " 'jumped',\n",
       " 'lazy',\n",
       " 'dog',\n",
       " '.']"
      ]
     },
     "execution_count": 19,
     "metadata": {},
     "output_type": "execute_result"
    }
   ],
   "source": [
    "filtered_tokens"
   ]
  },
  {
   "cell_type": "markdown",
   "id": "256299b2",
   "metadata": {},
   "source": [
    "##### Task 2.3 Normalization"
   ]
  },
  {
   "cell_type": "code",
   "execution_count": 20,
   "id": "42edac0a",
   "metadata": {},
   "outputs": [],
   "source": [
    "# Normalization\n",
    "normalized_tokens = [token.lower() for token in filtered_tokens]"
   ]
  },
  {
   "cell_type": "code",
   "execution_count": 21,
   "id": "8c55ae70",
   "metadata": {},
   "outputs": [
    {
     "name": "stdout",
     "output_type": "stream",
     "text": [
      "Original Text:  The quick brown fox jumped over the lazy dog. The quick brown fox jumped over the lazy dog. The quick brown fox jumped over the lazy dog.\n",
      "\n",
      "Tokenized Text:  ['The', 'quick', 'brown', 'fox', 'jumped', 'over', 'the', 'lazy', 'dog', '.', 'The', 'quick', 'brown', 'fox', 'jumped', 'over', 'the', 'lazy', 'dog', '.', 'The', 'quick', 'brown', 'fox', 'jumped', 'over', 'the', 'lazy', 'dog', '.']\n",
      "\n",
      "Filtered Text:  ['quick', 'brown', 'fox', 'jumped', 'lazy', 'dog', '.', 'quick', 'brown', 'fox', 'jumped', 'lazy', 'dog', '.', 'quick', 'brown', 'fox', 'jumped', 'lazy', 'dog', '.']\n",
      "\n",
      "Normalized Text:  ['quick', 'brown', 'fox', 'jumped', 'lazy', 'dog', '.', 'quick', 'brown', 'fox', 'jumped', 'lazy', 'dog', '.', 'quick', 'brown', 'fox', 'jumped', 'lazy', 'dog', '.']\n"
     ]
    }
   ],
   "source": [
    "print(\"Original Text: \", text)\n",
    "print()\n",
    "print(\"Tokenized Text: \", tokens)\n",
    "print()\n",
    "print(\"Filtered Text: \", filtered_tokens)\n",
    "print()\n",
    "print(\"Normalized Text: \", normalized_tokens)"
   ]
  },
  {
   "cell_type": "markdown",
   "id": "57122bab",
   "metadata": {},
   "source": [
    "##### Task 2.4 Extract words starting with Hashtag (#) and Mention (@)"
   ]
  },
  {
   "cell_type": "code",
   "execution_count": 22,
   "id": "1e475920",
   "metadata": {},
   "outputs": [],
   "source": [
    "import re\n",
    "from collections import defaultdict"
   ]
  },
  {
   "cell_type": "code",
   "execution_count": 23,
   "id": "71c669a7",
   "metadata": {},
   "outputs": [],
   "source": [
    "text = \"I @hamna am excited to learn #NLP course @GIKI in #2023. Check out https://www.hamna@gmail.com\""
   ]
  },
  {
   "cell_type": "code",
   "execution_count": 24,
   "id": "eb28ba3d",
   "metadata": {},
   "outputs": [],
   "source": [
    "# Extract hashtags and mentions\n",
    "hashtags = re.findall(r'#\\w+', text)\n",
    "usernames = re.findall(r'@\\w+', text)"
   ]
  },
  {
   "cell_type": "code",
   "execution_count": 25,
   "id": "5a5ec9dd",
   "metadata": {},
   "outputs": [],
   "source": [
    "# Replace URLs with \"URL\" and extract them\n",
    "urls = re.findall(r'http\\S+|www\\S+', text)\n",
    "for url in urls:\n",
    "    text = text.replace(url, \"URL\")"
   ]
  },
  {
   "cell_type": "code",
   "execution_count": 26,
   "id": "e498c2aa",
   "metadata": {},
   "outputs": [
    {
     "name": "stdout",
     "output_type": "stream",
     "text": [
      "hashtags :  ['#NLP', '#2023']\n",
      "\n",
      "usernames :  ['@hamna', '@GIKI', '@gmail']\n",
      "\n",
      "url :  https://www.hamna@gmail.com\n",
      "\n",
      "text :  ['The', 'quick', 'brown', 'fox', 'jumped', 'over', 'the', 'lazy', 'dog', '.', 'The', 'quick', 'brown', 'fox', 'jumped', 'over', 'the', 'lazy', 'dog', '.', 'The', 'quick', 'brown', 'fox', 'jumped', 'over', 'the', 'lazy', 'dog', '.']\n"
     ]
    }
   ],
   "source": [
    "print(\"hashtags : \", hashtags)\n",
    "print()\n",
    "print(\"usernames : \", usernames)\n",
    "print()\n",
    "print(\"url : \", url)\n",
    "print()\n",
    "print(\"text : \", tokens)"
   ]
  },
  {
   "cell_type": "markdown",
   "id": "70784b0e",
   "metadata": {},
   "source": [
    "##### Task 2.5  URL Extraction:"
   ]
  },
  {
   "cell_type": "code",
   "execution_count": 27,
   "id": "a50f6577",
   "metadata": {},
   "outputs": [],
   "source": [
    "import re"
   ]
  },
  {
   "cell_type": "code",
   "execution_count": 28,
   "id": "f9ae20ec",
   "metadata": {},
   "outputs": [],
   "source": [
    "text = \"I am hamna, the NLP students, check out my website for learning purposes: https://www.hamna@gmail.com, you will find many more interesting things at https://www.hamna@gmail.com\"\n",
    "url_pattern = re.compile(r'(https?://\\S+)')\n",
    "\n",
    "urls = re.findall(url_pattern, text)"
   ]
  },
  {
   "cell_type": "code",
   "execution_count": 29,
   "id": "c3757ba8",
   "metadata": {},
   "outputs": [
    {
     "name": "stdout",
     "output_type": "stream",
     "text": [
      "I am hamna, the NLP students, check out my website for learning purposes: URL, you will find many more interesting things at URL\n"
     ]
    }
   ],
   "source": [
    "for url in urls:\n",
    "    text1 = re.sub(url, 'URL', text)\n",
    "\n",
    "print(text1)\n",
    "#re.sub func replaces all the text (https://www.example.com) into URL."
   ]
  },
  {
   "cell_type": "markdown",
   "id": "aba51399",
   "metadata": {},
   "source": [
    "##### Task 2.6 Removing emoticons / emojis:"
   ]
  },
  {
   "cell_type": "code",
   "execution_count": 31,
   "id": "3bb35100",
   "metadata": {},
   "outputs": [],
   "source": [
    "#!pip install emot"
   ]
  },
  {
   "cell_type": "code",
   "execution_count": 39,
   "id": "a5b624e3",
   "metadata": {},
   "outputs": [],
   "source": [
    "import re\n",
    "import pickle"
   ]
  },
  {
   "cell_type": "code",
   "execution_count": 53,
   "id": "ba47e1df",
   "metadata": {},
   "outputs": [
    {
     "name": "stdout",
     "output_type": "stream",
     "text": [
      "Hey ! My name is Hamna ! \n"
     ]
    }
   ],
   "source": [
    "import re\n",
    "\n",
    "text = \"Hey 😎 My name is Hamna 😍🍕❤️😂 \"\n",
    "emoji_pattern = re.compile(\"[\"u\"\\U0001F600-\\U0001F64F\"  # emoticons\n",
    "                           u\"\\U0001F300-\\U0001F5FF\"  # symbols & pictographs\n",
    "                           u\"\\U0001F680-\\U0001F6FF\"  # transport & map symbols\n",
    "                           u\"\\U0001F1E0-\\U0001F1FF\"  # flags (iOS)\n",
    "                           u\"\\U00002702-\\U000027B0\"  # other emoticons\n",
    "                           u\"\\U000024C2-\\U0001F251\"\n",
    "                           \"]+\", flags=re.UNICODE)\n",
    "\n",
    "text = re.sub(emoji_pattern, '!', text)\n",
    "\n",
    "print(text)\n"
   ]
  },
  {
   "cell_type": "code",
   "execution_count": null,
   "id": "1e13471f",
   "metadata": {},
   "outputs": [],
   "source": []
  },
  {
   "cell_type": "code",
   "execution_count": null,
   "id": "63a930c1",
   "metadata": {},
   "outputs": [],
   "source": []
  }
 ],
 "metadata": {
  "kernelspec": {
   "display_name": "Python 3 (ipykernel)",
   "language": "python",
   "name": "python3"
  },
  "language_info": {
   "codemirror_mode": {
    "name": "ipython",
    "version": 3
   },
   "file_extension": ".py",
   "mimetype": "text/x-python",
   "name": "python",
   "nbconvert_exporter": "python",
   "pygments_lexer": "ipython3",
   "version": "3.8.12"
  }
 },
 "nbformat": 4,
 "nbformat_minor": 5
}
