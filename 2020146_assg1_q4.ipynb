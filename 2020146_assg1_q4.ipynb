{
 "cells": [
  {
   "cell_type": "code",
   "execution_count": 1,
   "id": "334a1ff2",
   "metadata": {},
   "outputs": [],
   "source": [
    "import nltk\n",
    "import pandas as pd\n",
    "import matplotlib.pyplot as plt\n",
    "import seaborn as sns\n",
    "import re\n",
    "from collections import Counter\n",
    "from sklearn.feature_extraction.text import CountVectorizer\n",
    "from nltk.tokenize import word_tokenize"
   ]
  },
  {
   "cell_type": "code",
   "execution_count": 2,
   "id": "f7454859",
   "metadata": {},
   "outputs": [],
   "source": [
    "from nltk.corpus import twitter_samples"
   ]
  },
  {
   "cell_type": "markdown",
   "id": "9cf85d39",
   "metadata": {},
   "source": [
    "# Task 4.1 POS TAGS"
   ]
  },
  {
   "cell_type": "code",
   "execution_count": 3,
   "id": "2bfade7b",
   "metadata": {},
   "outputs": [],
   "source": [
    "pos_tweets = twitter_samples.strings('positive_tweets.json')\n",
    "neg_tweets = twitter_samples.strings('negative_tweets.json')\n",
    "neutral_tweets = twitter_samples.strings('tweets.20150430-223406.json')\n",
    "\n",
    "tweets = pd.DataFrame({'text': pos_tweets + neg_tweets + neutral_tweets,'sentiment': ['positive']*len(pos_tweets) + ['negative']*len(neg_tweets) + ['neutral']*len(neutral_tweets)})"
   ]
  },
  {
   "cell_type": "code",
   "execution_count": 4,
   "id": "e284f546",
   "metadata": {},
   "outputs": [],
   "source": [
    "all_tweets = pos_tweets + neg_tweets + neutral_tweets"
   ]
  },
  {
   "cell_type": "code",
   "execution_count": 5,
   "id": "94a7182e",
   "metadata": {},
   "outputs": [],
   "source": [
    "corpus = ' '.join(all_tweets[:500])"
   ]
  },
  {
   "cell_type": "code",
   "execution_count": null,
   "id": "6e23fa30",
   "metadata": {},
   "outputs": [],
   "source": [
    "# Define a function to tag the part-of-speech of words in a sentence\n",
    "def pos_tag(sentence):\n",
    "    return nltk.pos_tag(sentence)"
   ]
  },
  {
   "cell_type": "code",
   "execution_count": 7,
   "id": "c7872446",
   "metadata": {},
   "outputs": [],
   "source": [
    "positive_pos_tags = [pos_tag(tweet) for tweet in positive_tweets]\n",
    "negative_pos_tags = [pos_tag(tweet) for tweet in negative_tweets]\n",
    "neutral_pos_tags = [pos_tag(tweet) for tweet in neutral_tweets]"
   ]
  },
  {
   "cell_type": "code",
   "execution_count": null,
   "id": "c7bea2d8",
   "metadata": {},
   "outputs": [],
   "source": [
    "# Count the frequency of each POS tag in each category\n",
    "positive_tag_freq = nltk.FreqDist(tag for tweet in positive_pos_tags for (word, tag) in tweet)\n",
    "negative_tag_freq = nltk.FreqDist(tag for tweet in negative_pos_tags for (word, tag) in tweet)\n",
    "neutral_tag_freq = nltk.FreqDist(tag for tweet in neutral_pos_tags for (word, tag)"
   ]
  },
  {
   "cell_type": "code",
   "execution_count": 12,
   "id": "53081082",
   "metadata": {},
   "outputs": [
    {
     "name": "stdout",
     "output_type": "stream",
     "text": [
      "Positive tweet POS tags: [('NN', 13181), ('NNP', 8949), ('JJ', 6091), ('IN', 3939), ('PRP', 3858), ('.', 3766), ('DT', 3044), ('VBP', 2955), ('RB', 2951), ('VB', 2911)]\n",
      "\n",
      "Negative tweet POS tags: [('NN', 12602), ('NNP', 7471), ('JJ', 5545), ('PRP', 3934), ('RB', 3658), ('IN', 3405), ('VBP', 3206), ('VB', 2919), ('DT', 2635), ('.', 2567)]\n",
      "\n",
      "Neutral tweet POS tags: [('NN', 83319), ('NNP', 79347), ('IN', 36196), ('JJ', 26854), ('DT', 24288), (':', 21066), ('VB', 17706), ('.', 16836), ('RB', 15912), ('NNS', 14408)]\n"
     ]
    }
   ],
   "source": [
    "print('Positive tweet POS tags:', positive_tag_freq.most_common(10))\n",
    "print()\n",
    "print('Negative tweet POS tags:', negative_tag_freq.most_common(10))\n",
    "print()\n",
    "print('Neutral tweet POS tags:', neutral_tag_freq.most_common(10))"
   ]
  },
  {
   "cell_type": "markdown",
   "id": "8a74f6ac",
   "metadata": {},
   "source": [
    "# Task 4.2 Plotting"
   ]
  },
  {
   "cell_type": "code",
   "execution_count": 14,
   "id": "c210f322",
   "metadata": {},
   "outputs": [
    {
     "data": {
      "image/png": "[encoded data removed]",
      "text/plain": [
       "<Figure size 720x360 with 1 Axes>"
      ]
     },
     "metadata": {
      "needs_background": "light"
     },
     "output_type": "display_data"
    },
    {
     "name": "stdout",
     "output_type": "stream",
     "text": [
      "-----------------------------------------------------------------------------\n"
     ]
    },
    {
     "data": {
      "image/png": "[encoded data removed]",
      "text/plain": [
       "<Figure size 720x360 with 1 Axes>"
      ]
     },
     "metadata": {
      "needs_background": "light"
     },
     "output_type": "display_data"
    },
    {
     "name": "stdout",
     "output_type": "stream",
     "text": [
      "-----------------------------------------------------------------------------\n"
     ]
    },
    {
     "data": {
      "image/png": "[encoded data removed]",
      "text/plain": [
       "<Figure size 720x360 with 1 Axes>"
      ]
     },
     "metadata": {
      "needs_background": "light"
     },
     "output_type": "display_data"
    }
   ],
   "source": [
    "sorted_freq1 = sorted(positive_tag_freq.items(), key=lambda x: x[1], reverse=True)\n",
    "top_freq1 = dict(sorted_freq1[:10])\n",
    "fig = plt.figure(figsize = (10, 5))\n",
    "# creating the bar plot\n",
    "plt.bar(top_freq1.keys(),top_freq1.values(), color ='green',\n",
    "        width = 0.4)\n",
    " \n",
    "plt.xlabel(\"N-gram\")\n",
    "plt.ylabel(\"Frequency\")\n",
    "plt.title(\"N-gram\")\n",
    "plt.show()\n",
    "\n",
    "\n",
    "\n",
    "print(\"-----------------------------------------------------------------------------\")\n",
    "\n",
    "sorted_freq2 = sorted(negative_tag_freq.items(), key=lambda x: x[1], reverse=True)\n",
    "top_freq2 = dict(sorted_freq2[:10])\n",
    "fig = plt.figure(figsize = (10, 5))\n",
    "# creating the bar plot\n",
    "plt.bar(top_freq2.keys(),top_freq2.values(), color ='yellow',\n",
    "        width = 0.4)\n",
    " \n",
    "plt.xlabel(\"Bi-gram\")\n",
    "plt.ylabel(\"Frequency\")\n",
    "plt.title(\"Bi-gram\")\n",
    "plt.show()\n",
    "\n",
    "\n",
    "\n",
    "\n",
    "print(\"-----------------------------------------------------------------------------\")\n",
    "\n",
    "sorted_freq3 = sorted(neutral_tag_freq.items(), key=lambda x: x[1], reverse=True)\n",
    "top_freq3 = dict(sorted_freq3[:10])\n",
    "fig = plt.figure(figsize = (10, 5))\n",
    "# creating the bar plot\n",
    "plt.bar(top_freq3.keys(),top_freq3.values(), color ='blue',\n",
    "        width = 0.4)\n",
    " \n",
    "plt.xlabel(\"Tri-gram\")\n",
    "plt.ylabel(\"Frequency\")\n",
    "plt.title(\"Tri-gram\")\n",
    "plt.show()"
   ]
  },
  {
   "cell_type": "code",
   "execution_count": null,
   "id": "491c0067",
   "metadata": {},
   "outputs": [],
   "source": []
  },
  {
   "cell_type": "code",
   "execution_count": null,
   "id": "f1ab5bc2",
   "metadata": {},
   "outputs": [],
   "source": []
  },
  {
   "cell_type": "code",
   "execution_count": null,
   "id": "12f03d8e",
   "metadata": {},
   "outputs": [],
   "source": []
  },
  {
   "cell_type": "code",
   "execution_count": null,
   "id": "d03d95ec",
   "metadata": {},
   "outputs": [],
   "source": []
  },
  {
   "cell_type": "code",
   "execution_count": null,
   "id": "999e7acf",
   "metadata": {},
   "outputs": [],
   "source": []
  }
 ],
 "metadata": {
  "kernelspec": {
   "display_name": "Python 3 (ipykernel)",
   "language": "python",
   "name": "python3"
  },
  "language_info": {
   "codemirror_mode": {
    "name": "ipython",
    "version": 3
   },
   "file_extension": ".py",
   "mimetype": "text/x-python",
   "name": "python",
   "nbconvert_exporter": "python",
   "pygments_lexer": "ipython3",
   "version": "3.8.12"
  }
 },
 "nbformat": 4,
 "nbformat_minor": 5
}
