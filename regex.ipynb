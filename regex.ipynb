{
 "cells": [
  {
   "cell_type": "code",
   "execution_count": 165,
   "id": "c248352a",
   "metadata": {},
   "outputs": [],
   "source": [
    "import re"
   ]
  },
  {
   "cell_type": "code",
   "execution_count": 166,
   "id": "8c266c27",
   "metadata": {},
   "outputs": [],
   "source": [
    "text = \"My email id is hamna.iftikhar@gmail.com, please contact me at this email.\""
   ]
  },
  {
   "cell_type": "code",
   "execution_count": 167,
   "id": "5fd5d811",
   "metadata": {},
   "outputs": [],
   "source": [
    "regex = \"[a-zA-Z0-9\\.\\-%]+[@][a-zA-Z0-9]+[\\.][a-z]{2,}\""
   ]
  },
  {
   "cell_type": "code",
   "execution_count": 168,
   "id": "b90204c9",
   "metadata": {},
   "outputs": [],
   "source": [
    "emails = re.findall(regex,text)"
   ]
  },
  {
   "cell_type": "code",
   "execution_count": 169,
   "id": "fc73af5a",
   "metadata": {},
   "outputs": [
    {
     "data": {
      "text/plain": [
       "['hamna.iftikhar@gmail.com']"
      ]
     },
     "execution_count": 169,
     "metadata": {},
     "output_type": "execute_result"
    }
   ],
   "source": [
    "emails"
   ]
  },
  {
   "cell_type": "code",
   "execution_count": 170,
   "id": "77874e22",
   "metadata": {},
   "outputs": [],
   "source": [
    "text2 = \"My email id is hamna.iftikhar123@gmail.com, please contact me at this email.\""
   ]
  },
  {
   "cell_type": "code",
   "execution_count": 171,
   "id": "1b4a9104",
   "metadata": {},
   "outputs": [],
   "source": [
    "regex2 = \"[a-zA-Z0-9\\.\\-%a-zA-Z0-9\\.\\-%]+[@][a-zA-Z0-9]+[\\.][a-z]{2,}\""
   ]
  },
  {
   "cell_type": "code",
   "execution_count": 178,
   "id": "bc59425e",
   "metadata": {},
   "outputs": [],
   "source": [
    "emails2 = re.findall(regex2,text2)"
   ]
  },
  {
   "cell_type": "code",
   "execution_count": 179,
   "id": "3f80d316",
   "metadata": {},
   "outputs": [
    {
     "data": {
      "text/plain": [
       "['hamna.iftikhar123@gmail.com']"
      ]
     },
     "execution_count": 179,
     "metadata": {},
     "output_type": "execute_result"
    }
   ],
   "source": [
    "emails2"
   ]
  },
  {
   "cell_type": "code",
   "execution_count": 209,
   "id": "b1c17fc6",
   "metadata": {},
   "outputs": [],
   "source": [
    "text3 = \"03092882492, 03092883392, 03232882992\""
   ]
  },
  {
   "cell_type": "code",
   "execution_count": 210,
   "id": "62ceb00b",
   "metadata": {},
   "outputs": [],
   "source": [
    "pn = \"[0][3][2][3][0-9]{7,}\""
   ]
  },
  {
   "cell_type": "code",
   "execution_count": 211,
   "id": "f37a87b5",
   "metadata": {},
   "outputs": [],
   "source": [
    "phno = re.findall(pn,text3)"
   ]
  },
  {
   "cell_type": "code",
   "execution_count": 212,
   "id": "9972844a",
   "metadata": {},
   "outputs": [
    {
     "data": {
      "text/plain": [
       "['03232882992']"
      ]
     },
     "execution_count": 212,
     "metadata": {},
     "output_type": "execute_result"
    }
   ],
   "source": [
    "phno"
   ]
  },
  {
   "cell_type": "code",
   "execution_count": null,
   "id": "59f07057",
   "metadata": {},
   "outputs": [],
   "source": []
  },
  {
   "cell_type": "code",
   "execution_count": null,
   "id": "df1c2bf9",
   "metadata": {},
   "outputs": [],
   "source": []
  }
 ],
 "metadata": {
  "kernelspec": {
   "display_name": "Python 3 (ipykernel)",
   "language": "python",
   "name": "python3"
  },
  "language_info": {
   "codemirror_mode": {
    "name": "ipython",
    "version": 3
   },
   "file_extension": ".py",
   "mimetype": "text/x-python",
   "name": "python",
   "nbconvert_exporter": "python",
   "pygments_lexer": "ipython3",
   "version": "3.8.12"
  }
 },
 "nbformat": 4,
 "nbformat_minor": 5
}

