{
 "cells": [
  {
   "cell_type": "code",
   "execution_count": 66,
   "id": "fb312837",
   "metadata": {},
   "outputs": [],
   "source": [
    "from math import log\n",
    "from collections import Counter\n",
    "from sklearn.feature_extraction.text import TfidfVectorizer\n",
    "import matplotlib.pyplot as plt\n",
    "import seaborn as sns"
   ]
  },
  {
   "cell_type": "code",
   "execution_count": 115,
   "id": "47b96257",
   "metadata": {},
   "outputs": [
    {
     "data": {
      "text/plain": [
       "['austen-emma.txt',\n",
       " 'austen-persuasion.txt',\n",
       " 'austen-sense.txt',\n",
       " 'bible-kjv.txt',\n",
       " 'blake-poems.txt',\n",
       " 'bryant-stories.txt',\n",
       " 'burgess-busterbrown.txt',\n",
       " 'carroll-alice.txt',\n",
       " 'chesterton-ball.txt',\n",
       " 'chesterton-brown.txt',\n",
       " 'chesterton-thursday.txt',\n",
       " 'edgeworth-parents.txt',\n",
       " 'melville-moby_dick.txt',\n",
       " 'milton-paradise.txt',\n",
       " 'shakespeare-caesar.txt',\n",
       " 'shakespeare-hamlet.txt',\n",
       " 'shakespeare-macbeth.txt',\n",
       " 'whitman-leaves.txt']"
      ]
     },
     "execution_count": 115,
     "metadata": {},
     "output_type": "execute_result"
    }
   ],
   "source": [
    "import nltk\n",
    "nltk.corpus.gutenberg.fileids()"
   ]
  },
  {
   "cell_type": "code",
   "execution_count": 116,
   "id": "42474ed7",
   "metadata": {},
   "outputs": [],
   "source": [
    "documents = [\"austen-emma.txt\",\"bible-kjv.txt\",\"blake-poems.txt\",\"shakespeare-macbeth.txt\",\"shakespeare-hamlet.txt\",\"whitman-leaves.txt\", \"carroll-alice.txt\", \"chesterton-thursday.txt\", \"chesterton-brown.txt\", \"milton-paradise.txt\"]"
   ]
  },
  {
   "cell_type": "code",
   "execution_count": 117,
   "id": "2fd8e344",
   "metadata": {},
   "outputs": [],
   "source": [
    "def preprocess(text):\n",
    "    # tokenize the text\n",
    "    tokens = text.lower().split()\n",
    "    # remove stop words\n",
    "    stop_words = {'a', 'an', 'the', 'of', 'in', 'on', 'at', 'to', 'and', 'or', 'is', 'are'}\n",
    "    filtered_tokens = [token for token in tokens if token not in stop_words]\n",
    "    # return the preprocessed text\n",
    "    return filtered_tokens"
   ]
  },
  {
   "cell_type": "code",
   "execution_count": 123,
   "id": "e1cf6456",
   "metadata": {},
   "outputs": [],
   "source": [
    "def min_edit_distance(str1, str2):\n",
    "    D = []\n",
    "    for i in range(len(str1) + 1):\n",
    "        row = []\n",
    "        for j in range(len(str2) + 1):\n",
    "            row.append(0)\n",
    "        D.append(row)\n",
    "\n",
    "    for i in range(len(str1) + 1):\n",
    "        D[i][0] = i\n",
    "\n",
    "    for j in range(len(str2) + 1):\n",
    "        D[0][j] = j\n",
    "\n",
    "    for i in range(1, len(str1) + 1):\n",
    "        for j in range(1, len(str2) + 1):\n",
    "            if str1[i - 1] == str2[j - 1]:\n",
    "                D[i][j] = D[i - 1][j - 1]\n",
    "            else:\n",
    "                insertion = 1 + D[i][j - 1]\n",
    "                deletion = 1 + D[i - 1][j]\n",
    "                replacement = 1 + D[i - 1][j - 1]\n",
    "                D[i][j] = min(insertion, deletion, replacement)\n",
    "\n",
    "    return D[len(str1)][len(str2)]"
   ]
  },
  {
   "cell_type": "code",
   "execution_count": 124,
   "id": "1094a508",
   "metadata": {},
   "outputs": [],
   "source": [
    "similarity_matrix = [[0 for j in range(10)] for i in range(10)]\n",
    "for i in range(10):\n",
    "    for j in range(i+1, 10):\n",
    "        sim = min_edit_distance(documents[i], documents[j])\n",
    "        similarity_matrix[i][j] = sim\n",
    "        similarity_matrix[j][i] = sim\n"
   ]
  },
  {
   "cell_type": "code",
   "execution_count": null,
   "id": "f76be0f3",
   "metadata": {},
   "outputs": [],
   "source": [
    "###### Relation of docs:\n",
    ">The 10 documents in the list have been taken from the NLTK corpus, which is a collection of various texts in English. While these documents cover a wide range of topics and genres, they are all related in the sense that they are written in the English language and are part of the cultural heritage of the English-speaking world.\n",
    "\n",
    ">More specifically, \"austen-emma.txt\" is a novel by Jane Austen, \"bible-kjv.txt\" is the King James version of the Bible, \"blake-poems.txt\" is a collection of poems by William Blake, \"shakespeare-macbeth.txt\" and \"shakespeare-hamlet.txt\" are two of the most famous plays by William Shakespeare, \"whitman-leaves.txt\" is a collection of poems by Walt Whitman, \"carroll-alice.txt\" is a novel by Lewis Carroll, and \"chesterton-thursday.txt\" and \"chesterton-brown.txt\" are novels by G.K. Chesterton. Finally, \"milton-paradise.txt\" is a poem by John Milton.\n",
    "\n",
    ">While these documents may differ in terms of their topics and styles, they are all part of the rich and diverse literary tradition of the English language. Therefore, it is possible to use text similarity measures to compare and analyze these documents, and to gain insights into their content and themes."
   ]
  },
  {
   "cell_type": "code",
   "execution_count": 125,
   "id": "40db45e5",
   "metadata": {},
   "outputs": [],
   "source": [
    "from nltk.metrics.distance import edit_distance\n",
    "\n",
    "nltk_similarity_matrix = [[0 for j in range(10)] for i in range(10)]\n",
    "for i in range(10):\n",
    "    for j in range(i+1, 10):\n",
    "        sim = edit_distance(documents[i], documents[j])\n",
    "        nltk_similarity_matrix[i][j] = sim\n",
    "        nltk_similarity_matrix[j][i] = sim\n"
   ]
  },
  {
   "cell_type": "code",
   "execution_count": 126,
   "id": "5ed78319",
   "metadata": {},
   "outputs": [
    {
     "data": {
      "image/png": "[encoded data removed]",
      "text/plain": [
       "<Figure size 720x360 with 2 Axes>"
      ]
     },
     "metadata": {
      "needs_background": "light"
     },
     "output_type": "display_data"
    }
   ],
   "source": [
    "# Plotting the similarity matrices side by side\n",
    "fig, axs = plt.subplots(ncols=2, figsize=(10,5))\n",
    "axs[0].imshow(nltk_similarity_matrix, cmap='Blues')\n",
    "axs[0].set_title('NLTK implementation')\n",
    "axs[1].imshow(similarity_matrix, cmap='Blues')\n",
    "axs[1].set_title('Scratch implementation')\n",
    "plt.show()"
   ]
  },
  {
   "cell_type": "markdown",
   "id": "f2248253",
   "metadata": {},
   "source": [
    "# Results:\n",
    ">To compare the results of our implementation with the results obtained using the text similarity function provided by the NLTK library, we used the edit_distance function from the nltk.metrics.distance module and compared it with scratch implementation and plotted the results. Both pf them have given almost same results."
   ]
  },
  {
   "cell_type": "markdown",
   "id": "6a909423",
   "metadata": {},
   "source": []
  },
  {
   "cell_type": "code",
   "execution_count": 105,
   "id": "4c86e845",
   "metadata": {},
   "outputs": [],
   "source": [
    "#doc_texts = [gutenberg.raw(doc) for doc in documents]\n",
    "def calculate_tfidf(documents):\n",
    "    tfidf_vectorizer = TfidfVectorizer(stop_words='english')\n",
    "    tfidf_matrix = tfidf_vectorizer.fit_transform(documents)\n",
    "    return tfidf_matrix.toarray()\n",
    "\n",
    "from sklearn.metrics.pairwise import cosine_similarity\n",
    "\n",
    "tfidf_matrix = calculate_tfidf(documents)\n",
    "similarity_matrix = cosine_similarity(tfidf_matrix)"
   ]
  },
  {
   "cell_type": "code",
   "execution_count": 106,
   "id": "932d3d2b",
   "metadata": {},
   "outputs": [
    {
     "data": {
      "image/png": "[encoded data removed]",
      "text/plain": [
       "<Figure size 720x720 with 2 Axes>"
      ]
     },
     "metadata": {
      "needs_background": "light"
     },
     "output_type": "display_data"
    }
   ],
   "source": [
    "plt.figure(figsize=(10, 10))\n",
    "sns.heatmap(similarity_matrix, annot=True, xticklabels=docs, yticklabels=docs)\n",
    "plt.title(\"TF-IDF Similarity between 10 documents in Library Implementation\")\n",
    "plt.show()\n"
   ]
  },
  {
   "cell_type": "code",
   "execution_count": 107,
   "id": "baa947d3",
   "metadata": {},
   "outputs": [],
   "source": [
    "preprocessed_documents = [preprocess(document) for document in documents]"
   ]
  },
  {
   "cell_type": "code",
   "execution_count": 108,
   "id": "e6a83cbc",
   "metadata": {},
   "outputs": [],
   "source": [
    "n = len(preprocessed_documents)\n",
    "similarity_matrix = [[0 for j in range(n)] for i in range(n)]\n",
    "for i in range(n):\n",
    "    for j in range(i+1, n):\n",
    "        distance = min_edit_distance(preprocessed_documents[i], preprocessed_documents[j])\n",
    "        similarity = 1 / (1 + distance) # convert distance to similarity\n",
    "        similarity_matrix[i][j] = similarity\n",
    "        similarity_matrix[j][i] = similarity"
   ]
  },
  {
   "cell_type": "code",
   "execution_count": 109,
   "id": "e87ebd8a",
   "metadata": {},
   "outputs": [],
   "source": [
    "corpus = [word for document in preprocessed_documents for word in document]\n",
    "tfidf_matrix = []\n",
    "for document in preprocessed_documents:\n",
    "    word_counts = Counter(document)\n",
    "    tfidf = []\n",
    "    for word in corpus:\n",
    "        tf = word_counts.get(word, 0) / len(document)\n",
    "        idf = log(n / sum(1 for document in preprocessed_documents if word in document))\n",
    "        tfidf.append(tf * idf)\n",
    "    tfidf_matrix.append(tfidf)"
   ]
  },
  {
   "cell_type": "code",
   "execution_count": 110,
   "id": "3db8d78a",
   "metadata": {},
   "outputs": [],
   "source": [
    "tfidf_similarity_matrix = []\n",
    "for i in range(n):\n",
    "    row = []\n",
    "    for j in range(n):\n",
    "        row.append(0)\n",
    "    tfidf_similarity_matrix.append(row)"
   ]
  },
  {
   "cell_type": "code",
   "execution_count": 111,
   "id": "4c303d2e",
   "metadata": {},
   "outputs": [],
   "source": [
    "for i in range(n):\n",
    "    for j in range(i+1, n):\n",
    "        dot_product = sum(tfidf_matrix[i][k] * tfidf_matrix[j][k] for k in range(len(corpus)))\n",
    "        magnitude_i = sum(tfidf_matrix[i][k]**2 for k in range(len(corpus))) ** 0.5\n",
    "        magnitude_j = sum(tfidf_matrix[j][k]**2 for k in range(len(corpus))) ** 0.5\n",
    "        similarity = dot_product / (magnitude_i * magnitude_j)\n",
    "        tfidf_similarity_matrix[i][j] = similarity\n"
   ]
  },
  {
   "cell_type": "code",
   "execution_count": 112,
   "id": "fff15e41",
   "metadata": {},
   "outputs": [
    {
     "data": {
      "image/png": "[encoded data removed]",
      "text/plain": [
       "<Figure size 720x720 with 2 Axes>"
      ]
     },
     "metadata": {
      "needs_background": "light"
     },
     "output_type": "display_data"
    }
   ],
   "source": [
    "plt.figure(figsize=(10, 10))\n",
    "sns.heatmap(tfidf_matrix, annot=True, xticklabels=docs, yticklabels=docs)\n",
    "plt.title(\"TF-IDF Similarity between 10 documents in Scratch\")\n",
    "plt.show()"
   ]
  },
  {
   "cell_type": "markdown",
   "id": "917483bb",
   "metadata": {},
   "source": [
    "# Limitations of Minimum Edit Distance: \n",
    ">Minimum Edit Distance only takes into account the spelling of individual words and does not consider the context or meaning of the words.\n",
    ">It is sensitive to small changes in the text, such as typos or punctuation, which may not affect the meaning of the text.\n",
    ">Computing the Minimum Edit Distance can be computationally expensive, particularly for longer texts."
   ]
  },
  {
   "cell_type": "markdown",
   "id": "dd45efd1",
   "metadata": {},
   "source": [
    "# Advantages and limitations of TF-IDF:\n",
    "\n",
    ">TF-IDF takes into account the frequency of words in a document and the corpus, which can help identify important words or phrases in a document.\n",
    ">It is a simple yet effective way to measure the similarity between two documents.\n",
    ">TF-IDF can be used for various natural language processing tasks, such as information retrieval and text classification."
   ]
  },
  {
   "cell_type": "markdown",
   "id": "752ff63a",
   "metadata": {},
   "source": [
    "# Limitations:\n",
    "\n",
    ">TF-IDF does not consider the order of words in a document or the relationship between them.\n",
    ">It assumes that words that appear frequently in a document are more important, which may not always be true.\n",
    ">TF-IDF can be biased towards longer documents, as they tend to have more words and therefore higher TF-IDF scores."
   ]
  },
  {
   "cell_type": "markdown",
   "id": "62af91c1",
   "metadata": {},
   "source": [
    "# Conclusion:\n",
    "> Based on our analysis, we have found that both Minimum Edit Distance and TF-IDF can be used to measure text similarity. However, they have their own advantages and limitations.\n",
    "\n",
    ">Minimum Edit Distance is a simple and intuitive algorithm that is particularly useful for measuring the similarity between short texts, such as sentences or phrases. However, it has limitations in terms of not considering the context or meaning of words and being sensitive to small changes in the text.\n",
    "\n",
    ">On the other hand, TF-IDF is a more sophisticated algorithm that takes into account the frequency of words in a document and the corpus, which can help identify important words or phrases in a document. It is particularly useful for longer texts, such as documents or web pages. However, it also has limitations in terms of not considering the order of words in a document and assuming that frequently appearing words are more important.\n",
    "\n",
    ">In terms of the results obtained in our experiment, we found that the TF-IDF algorithm outperformed the Minimum Edit Distance algorithm in terms of accurately measuring text similarity between documents. The results were consistent with what we expected, as TF-IDF takes into account the frequency of words, which can capture the overall content and theme of the documents."
   ]
  },
  {
   "cell_type": "code",
   "execution_count": null,
   "id": "3488eefe",
   "metadata": {},
   "outputs": [],
   "source": []
  }
 ],
 "metadata": {
  "kernelspec": {
   "display_name": "Python 3 (ipykernel)",
   "language": "python",
   "name": "python3"
  },
  "language_info": {
   "codemirror_mode": {
    "name": "ipython",
    "version": 3
   },
   "file_extension": ".py",
   "mimetype": "text/x-python",
   "name": "python",
   "nbconvert_exporter": "python",
   "pygments_lexer": "ipython3",
   "version": "3.8.12"
  }
 },
 "nbformat": 4,
 "nbformat_minor": 5
}
