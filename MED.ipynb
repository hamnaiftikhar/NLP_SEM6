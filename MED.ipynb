{
 "cells": [
  {
   "cell_type": "code",
   "execution_count": 17,
   "id": "babc9e5c",
   "metadata": {},
   "outputs": [],
   "source": [
    "import re"
   ]
  },
  {
   "cell_type": "code",
   "execution_count": 18,
   "id": "b89da016",
   "metadata": {},
   "outputs": [],
   "source": [
    "str1 = \"We are familiar with you.\"\n",
    "str2 = \"Well I know you very well.\"\n",
    "str1 = re.sub('[a-z]', ' ', str1)\n",
    "str2 = re.sub('a', ' ', str2)"
   ]
  },
  {
   "cell_type": "code",
   "execution_count": 19,
   "id": "d68b420b",
   "metadata": {},
   "outputs": [],
   "source": [
    "D = []\n",
    "for i in range(len(str1) + 1):\n",
    "    row = []\n",
    "    for j in range(len(str2) + 1):\n",
    "        row.append(0)\n",
    "    D.append(row)"
   ]
  },
  {
   "cell_type": "code",
   "execution_count": 20,
   "id": "10880a2a",
   "metadata": {},
   "outputs": [
    {
     "name": "stdout",
     "output_type": "stream",
     "text": [
      "Levenshtein Distance:  20\n"
     ]
    }
   ],
   "source": [
    "for i in range(len(str1) + 1):\n",
    "    D[i][0] = i\n",
    "\n",
    "# Initialising first column:\n",
    "for j in range(len(str2) + 1):\n",
    "    D[0][j] = j\n",
    "\n",
    "for i in range(1, len(str1) + 1):\n",
    "    for j in range(1, len(str2) + 1):\n",
    "        if str1[i - 1] == str2[j - 1]:\n",
    "            D[i][j] = D[i - 1][j - 1]\n",
    "        else:\n",
    "            # Adding 1 to account for the cost of operation\n",
    "            insertion = 1 + D[i][j - 1]\n",
    "            deletion = 1 + D[i - 1][j]\n",
    "            replacement = 1 + D[i - 1][j - 1]\n",
    "\n",
    "            # Choosing the best option:\n",
    "            D[i][j] = min(insertion, deletion, replacement)\n",
    "\n",
    "print(\"Levenshtein Distance: \", D[len(str1)][len(str2)])"
   ]
  },
  {
   "cell_type": "code",
   "execution_count": null,
   "id": "c914ac34",
   "metadata": {},
   "outputs": [],
   "source": [
    "\n"
   ]
  },
  {
   "cell_type": "code",
   "execution_count": 16,
   "id": "0a3d64b3",
   "metadata": {},
   "outputs": [
    {
     "name": "stdout",
     "output_type": "stream",
     "text": [
      "Levenshtein Distance:  3\n"
     ]
    }
   ],
   "source": [
    "# Declaring the strings 'a' and 'b':\n",
    "a = \"junk\"\n",
    "b = \"clunky\"\n",
    "\n",
    "# Declaring array 'D' with rows = len(a) + 1 and columns = len(b) + 1:\n",
    "D = [[0 for i in range(len(b) + 1)] for j in range(len(a) + 1)]\n",
    "\n",
    "# Initialising first row:\n",
    "for i in range(len(a) + 1):\n",
    "    D[i][0] = i\n",
    "\n",
    "# Initialising first column:\n",
    "for j in range(len(b) + 1):\n",
    "    D[0][j] = j\n",
    "\n",
    "for i in range(1, len(a) + 1):\n",
    "    for j in range(1, len(b) + 1):\n",
    "        if a[i - 1] == b[j - 1]:\n",
    "            D[i][j] = D[i - 1][j - 1]\n",
    "        else:\n",
    "            # Adding 1 to account for the cost of operation\n",
    "            insertion = 1 + D[i][j - 1]\n",
    "            deletion = 1 + D[i - 1][j]\n",
    "            replacement = 1 + D[i - 1][j - 1]\n",
    "\n",
    "            # Choosing the best option:\n",
    "            D[i][j] = min(insertion, deletion, replacement)\n",
    "\n",
    "print(\"Levenshtein Distance: \", D[len(a)][len(b)])\n",
    "\n",
    "\n",
    "\n",
    "\n",
    "\n",
    "\n"
   ]
  },
  {
   "cell_type": "code",
   "execution_count": null,
   "id": "146dcb10",
   "metadata": {},
   "outputs": [],
   "source": []
  }
 ],
 "metadata": {
  "kernelspec": {
   "display_name": "Python 3 (ipykernel)",
   "language": "python",
   "name": "python3"
  },
  "language_info": {
   "codemirror_mode": {
    "name": "ipython",
    "version": 3
   },
   "file_extension": ".py",
   "mimetype": "text/x-python",
   "name": "python",
   "nbconvert_exporter": "python",
   "pygments_lexer": "ipython3",
   "version": "3.8.12"
  }
 },
 "nbformat": 4,
 "nbformat_minor": 5
}
