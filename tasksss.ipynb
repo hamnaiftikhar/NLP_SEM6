{
 "cells": [
  {
   "cell_type": "code",
   "execution_count": 1,
   "id": "75945b91",
   "metadata": {},
   "outputs": [],
   "source": [
    "import re\n",
    "import nltk\n",
    "import matplotlib.pyplot as plt\n",
    "from collections import Counter\n",
    "from nltk.corpus import gutenberg\n",
    "from sklearn.feature_extraction.text import CountVectorizer"
   ]
  },
  {
   "cell_type": "code",
   "execution_count": 2,
   "id": "50ba30eb",
   "metadata": {},
   "outputs": [],
   "source": [
    "#nltk.download('averaged_perceptron_tagger')"
   ]
  },
  {
   "cell_type": "code",
   "execution_count": 3,
   "id": "c7148f6b",
   "metadata": {},
   "outputs": [],
   "source": [
    "from nltk.corpus import brown"
   ]
  },
  {
   "cell_type": "code",
   "execution_count": 4,
   "id": "524c607e",
   "metadata": {},
   "outputs": [
    {
     "data": {
      "text/plain": [
       "['The', 'Fulton', 'County', 'Grand', 'Jury', 'said', ...]"
      ]
     },
     "execution_count": 4,
     "metadata": {},
     "output_type": "execute_result"
    }
   ],
   "source": [
    "brown.words()"
   ]
  },
  {
   "cell_type": "code",
   "execution_count": 5,
   "id": "c6a8ea0f",
   "metadata": {},
   "outputs": [],
   "source": [
    "corpus = ' '.join(brown.words()[:500])"
   ]
  },
  {
   "cell_type": "code",
   "execution_count": 6,
   "id": "d4fcdf6c",
   "metadata": {},
   "outputs": [],
   "source": [
    "def tokenize(text):\n",
    "    words = nltk.word_tokenize(text)\n",
    "    words = [word.lower() for word in words]\n",
    "    return words"
   ]
  },
  {
   "cell_type": "code",
   "execution_count": 7,
   "id": "86ef48bf",
   "metadata": {},
   "outputs": [],
   "source": [
    "def generate_ngrams(text, n):\n",
    "    words = nltk.word_tokenize(text)\n",
    "    ngrams = []\n",
    "    for i in range(len(words)-n+1):\n",
    "        ngram = ' '.join(words[i:i+n])\n",
    "        ngrams.append(ngram)\n",
    "    return ngrams"
   ]
  },
  {
   "cell_type": "code",
   "execution_count": 8,
   "id": "007d20a4",
   "metadata": {},
   "outputs": [],
   "source": [
    "def get_freq(ngrams):\n",
    "    freq = Counter(ngrams)\n",
    "    return freq"
   ]
  },
  {
   "cell_type": "code",
   "execution_count": 9,
   "id": "2ea0cabb",
   "metadata": {},
   "outputs": [],
   "source": [
    "uni = generate_ngrams(corpus, 1)\n",
    "freq1 = get_freq(uni)"
   ]
  },
  {
   "cell_type": "code",
   "execution_count": 10,
   "id": "8ce8e58b",
   "metadata": {},
   "outputs": [],
   "source": [
    "bi_gram = generate_ngrams(corpus, 2)\n",
    "freq2 = get_freq(uni)"
   ]
  },
  {
   "cell_type": "code",
   "execution_count": 11,
   "id": "5abba80b",
   "metadata": {},
   "outputs": [],
   "source": [
    "tri_gram = generate_ngrams(corpus, 3)\n",
    "freq3 = get_freq(uni)"
   ]
  },
  {
   "cell_type": "code",
   "execution_count": 12,
   "id": "be40804a",
   "metadata": {},
   "outputs": [
    {
     "data": {
      "image/png": "[encoded data removed]",
      "text/plain": [
       "<Figure size 720x360 with 1 Axes>"
      ]
     },
     "metadata": {
      "needs_background": "light"
     },
     "output_type": "display_data"
    },
    {
     "name": "stdout",
     "output_type": "stream",
     "text": [
      "-----------------------------------------------------------------------------\n"
     ]
    },
    {
     "data": {
      "image/png": "[encoded data removed]",
      "text/plain": [
       "<Figure size 720x360 with 1 Axes>"
      ]
     },
     "metadata": {
      "needs_background": "light"
     },
     "output_type": "display_data"
    },
    {
     "name": "stdout",
     "output_type": "stream",
     "text": [
      "-----------------------------------------------------------------------------\n"
     ]
    },
    {
     "data": {
      "image/png": "[encoded data removed]",
      "text/plain": [
       "<Figure size 720x360 with 1 Axes>"
      ]
     },
     "metadata": {
      "needs_background": "light"
     },
     "output_type": "display_data"
    }
   ],
   "source": [
    "sorted_freq1 = sorted(freq1.items(), key=lambda x: x[1], reverse=True)\n",
    "top_freq1 = dict(sorted_freq1[:10])\n",
    "fig = plt.figure(figsize = (10, 5))\n",
    "# creating the bar plot\n",
    "plt.bar(top_freq1.keys(),top_freq1.values(), color ='green',\n",
    "        width = 0.4)\n",
    " \n",
    "plt.xlabel(\"N-gram\")\n",
    "plt.ylabel(\"Frequency\")\n",
    "plt.title(\"N-gram\")\n",
    "plt.show()\n",
    "\n",
    "print(\"-----------------------------------------------------------------------------\")\n",
    "\n",
    "sorted_freq2 = sorted(freq2.items(), key=lambda x: x[1], reverse=True)\n",
    "top_freq2 = dict(sorted_freq2[:10])\n",
    "fig = plt.figure(figsize = (10, 5))\n",
    "# creating the bar plot\n",
    "plt.bar(top_freq2.keys(),top_freq2.values(), color ='yellow',\n",
    "        width = 0.4)\n",
    " \n",
    "plt.xlabel(\"Bi-gram\")\n",
    "plt.ylabel(\"Frequency\")\n",
    "plt.title(\"Bi-gram\")\n",
    "plt.show()\n",
    "\n",
    "print(\"-----------------------------------------------------------------------------\")\n",
    "\n",
    "sorted_freq3 = sorted(freq3.items(), key=lambda x: x[1], reverse=True)\n",
    "top_freq3 = dict(sorted_freq3[:10])\n",
    "fig = plt.figure(figsize = (10, 5))\n",
    "# creating the bar plot\n",
    "plt.bar(top_freq3.keys(),top_freq3.values(), color ='blue',\n",
    "        width = 0.4)\n",
    " \n",
    "plt.xlabel(\"Tri-gram\")\n",
    "plt.ylabel(\"Frequency\")\n",
    "plt.title(\"Tri-gram\")\n",
    "plt.show()"
   ]
  },
  {
   "cell_type": "code",
   "execution_count": 13,
   "id": "613b7687",
   "metadata": {},
   "outputs": [],
   "source": [
    "def get_ngrams_with_pos(text, n):\n",
    "    words = tokenize(text)\n",
    "    pos_tags = nltk.pos_tag(words)\n",
    "    ngrams = [(tuple([pos_tags[i+j][1] for j in range(n)]), tuple([words[i+j] for j in range(n)])) for i in range(len(words)-n+1)]\n",
    "    return ngrams"
   ]
  },
  {
   "cell_type": "code",
   "execution_count": 14,
   "id": "6e17c6ee",
   "metadata": {},
   "outputs": [],
   "source": [
    "def get_freq(ngrams, pos_tags=None):\n",
    "    freq = Counter(ngrams)\n",
    "    if pos_tags is not None:\n",
    "        filtered_ngrams = [ngram for ngram in ngrams if ngram[0] == pos_tags]\n",
    "        freq = Counter(filtered_ngrams)\n",
    "    return freq"
   ]
  },
  {
   "cell_type": "code",
   "execution_count": 15,
   "id": "4987a8f0",
   "metadata": {},
   "outputs": [
    {
     "data": {
      "text/plain": [
       "Counter()"
      ]
     },
     "execution_count": 15,
     "metadata": {},
     "output_type": "execute_result"
    }
   ],
   "source": [
    "ngrams = get_ngrams_with_pos(corpus, 1) \n",
    "freq = get_freq(ngrams, ('NNP', 'VBP'))\n",
    "freq"
   ]
  },
  {
   "cell_type": "code",
   "execution_count": 16,
   "id": "5bd84710",
   "metadata": {},
   "outputs": [
    {
     "data": {
      "text/plain": [
       "Counter()"
      ]
     },
     "execution_count": 16,
     "metadata": {},
     "output_type": "execute_result"
    }
   ],
   "source": [
    "bigram = get_ngrams_with_pos(corpus, 2) \n",
    "freq_2 = get_freq(bigram, ('NNP', 'VBP'))\n",
    "freq_2"
   ]
  },
  {
   "cell_type": "code",
   "execution_count": 17,
   "id": "71b24d17",
   "metadata": {},
   "outputs": [
    {
     "data": {
      "text/plain": [
       "Counter()"
      ]
     },
     "execution_count": 17,
     "metadata": {},
     "output_type": "execute_result"
    }
   ],
   "source": [
    "trigram = get_ngrams_with_pos(corpus, 3)\n",
    "freq_3 = get_freq(trigram, ('NNP', 'VBP'))\n",
    "freq_3"
   ]
  },
  {
   "cell_type": "code",
   "execution_count": null,
   "id": "a31b47ec",
   "metadata": {},
   "outputs": [],
   "source": []
  },
  {
   "cell_type": "code",
   "execution_count": 19,
   "id": "a81c7517",
   "metadata": {},
   "outputs": [],
   "source": [
    "unigram_freq = Counter(ngrams)\n",
    "bigram_freq = Counter(bigram)\n",
    "trigram_freq = Counter(trigram)"
   ]
  },
  {
   "cell_type": "code",
   "execution_count": 20,
   "id": "e691d93c",
   "metadata": {},
   "outputs": [
    {
     "data": {
      "image/png": "[encoded data removed]",
      "text/plain": [
       "<Figure size 432x288 with 1 Axes>"
      ]
     },
     "metadata": {
      "needs_background": "light"
     },
     "output_type": "display_data"
    },
    {
     "name": "stdout",
     "output_type": "stream",
     "text": [
      "-----------------------------------------------------------------------------\n"
     ]
    },
    {
     "data": {
      "image/png": "[encoded data removed]",
      "text/plain": [
       "<Figure size 432x288 with 1 Axes>"
      ]
     },
     "metadata": {
      "needs_background": "light"
     },
     "output_type": "display_data"
    },
    {
     "name": "stdout",
     "output_type": "stream",
     "text": [
      "-----------------------------------------------------------------------------\n"
     ]
    },
    {
     "data": {
      "image/png": "[encoded data removed]",
      "text/plain": [
       "<Figure size 432x288 with 1 Axes>"
      ]
     },
     "metadata": {
      "needs_background": "light"
     },
     "output_type": "display_data"
    }
   ],
   "source": [
    "plt.hist(list(unigram_freq.values()), bins=range(1,max(list(unigram_freq.values()))+2), rwidth=0.8, align='left',color ='blue')\n",
    "plt.xticks(range(1,max(list(unigram_freq.values()))+1))\n",
    "plt.xlabel('Frequency')\n",
    "plt.ylabel('Number of unigrams')\n",
    "plt.title('Unigram Frequency Distribution')\n",
    "plt.show()\n",
    "\n",
    "\n",
    "print(\"-----------------------------------------------------------------------------\")\n",
    "\n",
    "\n",
    "plt.hist(list(bigram_freq.values()), bins=range(1,max(list(bigram_freq.values()))+2), rwidth=0.8, align='left',color ='green')\n",
    "plt.xticks(range(1,max(list(bigram_freq.values()))+1))\n",
    "plt.xlabel('Frequency')\n",
    "plt.ylabel('Number of bigrams')\n",
    "plt.title('Bigram Frequency Distribution')\n",
    "plt.show()\n",
    "\n",
    "\n",
    "print(\"-----------------------------------------------------------------------------\")\n",
    "\n",
    "\n",
    "plt.hist(list(trigram_freq.values()), bins=range(1,max(list(trigram_freq.values()))+2), rwidth=0.8, align='left',color = \"yellow\")\n",
    "plt.xticks(range(1,max(list(trigram_freq.values()))+1))\n",
    "plt.xlabel('Frequency')\n",
    "plt.ylabel('Number of trigrams')\n",
    "plt.title('Trigram Frequency Distribution')\n",
    "plt.show()"
   ]
  },
  {
   "cell_type": "code",
   "execution_count": null,
   "id": "5a307a93",
   "metadata": {},
   "outputs": [],
   "source": []
  }
 ],
 "metadata": {
  "kernelspec": {
   "display_name": "Python 3 (ipykernel)",
   "language": "python",
   "name": "python3"
  },
  "language_info": {
   "codemirror_mode": {
    "name": "ipython",
    "version": 3
   },
   "file_extension": ".py",
   "mimetype": "text/x-python",
   "name": "python",
   "nbconvert_exporter": "python",
   "pygments_lexer": "ipython3",
   "version": "3.8.12"
  }
 },
 "nbformat": 4,
 "nbformat_minor": 5
}
