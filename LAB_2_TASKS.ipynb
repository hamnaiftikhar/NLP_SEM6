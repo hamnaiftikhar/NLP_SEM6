{
 "cells": [
  {
   "cell_type": "markdown",
   "id": "f5cb68ea",
   "metadata": {},
   "source": [
    "# TASK 1 LAB 2"
   ]
  },
  {
   "cell_type": "code",
   "execution_count": null,
   "id": "e8dc0f4a",
   "metadata": {},
   "outputs": [],
   "source": [
    "import csv\n",
    "import re"
   ]
  },
  {
   "cell_type": "code",
   "execution_count": null,
   "id": "dd9ec549",
   "metadata": {},
   "outputs": [],
   "source": [
    "#function searches for Name, Brand and phone number\n",
    "def extract_contact_info(text):\n",
    "    phone_numbers = []\n",
    "    first_names = []\n",
    "    lines = text.split(\"\\n\")\n",
    "    for i in range(len(lines)):\n",
    "        line = lines[i].strip()\n",
    "        if line:\n",
    "            #search for name\n",
    "            match = re.search(r'^\\s*([^,]+)', line)\n",
    "            if match:\n",
    "                first_name = match.group(1).strip()\n",
    "                first_names.append(first_name)\n",
    "                \n",
    "            # search phone number and company\n",
    "            match = re.search(r'(jazz|uphone|warid|zong|Telenor)[\\s:]+([0-9-]+)', line)\n",
    "            if match:\n",
    "                company = match.group(1)\n",
    "                phone_number = match.group(2)\n",
    "                phone_numbers.append((first_name, company, phone_number, i))\n",
    "                \n",
    "    return phone_numbers, first_names"
   ]
  },
  {
   "cell_type": "code",
   "execution_count": null,
   "id": "fbd6a8cd",
   "metadata": {},
   "outputs": [],
   "source": [
    "text = \"Hamna, jazz: 0309-3672-892\\nFatima, uphone: 0306-4536-781\\nIqra, warid: 0323-1483-189\\nHamna, warid: 0323-1456-278\\nAli, Telenor: 0340-1236-768\\n\"\n",
    "phone_numbers, first_names = extract_contact_info(text)"
   ]
  },
  {
   "cell_type": "code",
   "execution_count": null,
   "id": "7b8b08b7",
   "metadata": {},
   "outputs": [],
   "source": [
    "for first_name, company, phone_number, line_number in phone_numbers:\n",
    "    print(f\"Name: {first_name} \\nbrand : {company} \\nPhone number {phone_number} \\nline no: {line_number}\")"
   ]
  },
  {
   "cell_type": "code",
   "execution_count": null,
   "id": "f4b0fb58",
   "metadata": {},
   "outputs": [],
   "source": [
    "with open('task1.csv', mode='w', newline='') as file:\n",
    "    writer = csv.writer(file)\n",
    "    writer.writerow([\"First Name\"])\n",
    "    for first_name2 in first_names:\n",
    "        writer.writerow([first_name2])"
   ]
  },
  {
   "cell_type": "code",
   "execution_count": null,
   "id": "814bb362",
   "metadata": {},
   "outputs": [],
   "source": []
  },
  {
   "cell_type": "markdown",
   "id": "12e66a20",
   "metadata": {},
   "source": [
    "# TASK 2 LAB2"
   ]
  },
  {
   "cell_type": "code",
   "execution_count": null,
   "id": "986c5dca",
   "metadata": {},
   "outputs": [],
   "source": [
    "import re"
   ]
  },
  {
   "cell_type": "code",
   "execution_count": null,
   "id": "4027edba",
   "metadata": {},
   "outputs": [],
   "source": [
    "a = input(\"Enter a string: \")\n",
    "while a:\n",
    "    for i in range(len(a)):\n",
    "        a = a[:-1]\n",
    "        input()\n",
    "        print(a)\n",
    "    if not a:\n",
    "        break\n",
    "    input()"
   ]
  },
  {
   "cell_type": "markdown",
   "id": "ed262819",
   "metadata": {},
   "source": [
    "# TASK 3 LAB2"
   ]
  },
  {
   "cell_type": "code",
   "execution_count": 41,
   "id": "5f054dbe",
   "metadata": {},
   "outputs": [],
   "source": [
    "import re\n",
    "\n",
    "def check_string(s):\n",
    "    #condition 1\n",
    "    if len(s) != 12 or not s.isdigit():\n",
    "        return False\n",
    "\n",
    "    #condition 2\n",
    "    if not re.match(r'^(\\d{3}-){3}\\d{3}$|^\\d{12}$', s):\n",
    "        return False\n",
    "\n",
    "    #condition 3\n",
    "    if re.search(r'(\\d)\\1{2}', s):\n",
    "        return False\n",
    "\n",
    "    return True"
   ]
  },
  {
   "cell_type": "code",
   "execution_count": 42,
   "id": "22fe5423",
   "metadata": {},
   "outputs": [
    {
     "name": "stdout",
     "output_type": "stream",
     "text": [
      "False\n",
      "True\n",
      "False\n",
      "False\n",
      "False\n",
      "False\n"
     ]
    }
   ],
   "source": [
    "s1 = \"123-456-789-012\"\n",
    "s2 = \"123456789012\"\n",
    "s3 = \"111-222-333-444\"\n",
    "s4 = \"12345678901\"\n",
    "s5 = \"1a2b3c4d5e6f\"\n",
    "s6 = \"abc-def-ghi-jkl\"\n",
    "\n",
    "print(check_string(s1))  # Output: True\n",
    "print(check_string(s2))  # Output: True\n",
    "print(check_string(s3))  # Output: False (repeats)\n",
    "print(check_string(s4))  # Output: False (invalid format)\n",
    "print(check_string(s5)) \n",
    "print(check_string(s6)) "
   ]
  },
  {
   "cell_type": "markdown",
   "id": "8bc60480",
   "metadata": {},
   "source": [
    "# TASK 4 LAB 2"
   ]
  },
  {
   "cell_type": "code",
   "execution_count": null,
   "id": "2963a087",
   "metadata": {},
   "outputs": [],
   "source": [
    "import re\n",
    "\n",
    "def comments(filename):\n",
    "    with open(filename, 'r') as f:\n",
    "        lines = f.readlines()\n",
    "\n",
    "    comment = []\n",
    "    for i in range(len(lines)):\n",
    "        line = lines[i].strip()\n",
    "        if re.match(r'^\\s*#', line):\n",
    "            comment.append(i+1)\n",
    "            if re.search(r'#\\s*$', line):\n",
    "                return \"Multiline comments found at line {}\".format(i+1)\n",
    "\n",
    "    if comment:\n",
    "        return \"Single line comments found at lines: {}\".format(\", \".join(str(x) for x in comment))\n",
    "    else:\n",
    "        return \"No comments found\"\n",
    "\n",
    "# Example usage\n",
    "filename = \"example_file.txt\"\n",
    "result = comments(filename)\n",
    "print(result)\n"
   ]
  },
  {
   "cell_type": "code",
   "execution_count": 63,
   "id": "b50166cd",
   "metadata": {},
   "outputs": [
    {
     "name": "stdout",
     "output_type": "stream",
     "text": [
      "Single line comments found at line(s): 1, 2\n"
     ]
    }
   ],
   "source": [
    "import re\n",
    "\n",
    "def comments(filename):\n",
    "    with open(filename, 'r') as f:\n",
    "        lines = f.readlines()\n",
    "\n",
    "    comment = []\n",
    "    multiline = False\n",
    "\n",
    "    for i in range(len(lines)):\n",
    "        line = lines[i].strip()\n",
    "        if re.match(r'^\\s*#', line):\n",
    "            comment.append(i+1)\n",
    "            multiline = re.findall(r'(?s)\\'\\'\\'.*?\\'\\'\\'|\\\"\\\"\\\".*?\\\"\\\"\\\"', line) or multiline\n",
    "\n",
    "    if comment:\n",
    "        if multiline:\n",
    "            return \"Multiline comments found at line(s): {}\".format(\", \".join(str(x) for x in comment))\n",
    "        else:\n",
    "            return \"Single line comments found at line(s): {}\".format(\", \".join(str(x) for x in comment))\n",
    "    else:\n",
    "        return \"No comments found\"\n",
    "\n",
    "# Example usage\n",
    "filename = \"task.txt\"\n",
    "result = comments(filename)\n",
    "print(result)\n"
   ]
  },
  {
   "cell_type": "code",
   "execution_count": null,
   "id": "19038e03",
   "metadata": {},
   "outputs": [],
   "source": []
  },
  {
   "cell_type": "code",
   "execution_count": null,
   "id": "e88f29f2",
   "metadata": {},
   "outputs": [],
   "source": []
  }
 ],
 "metadata": {
  "kernelspec": {
   "display_name": "Python 3 (ipykernel)",
   "language": "python",
   "name": "python3"
  },
  "language_info": {
   "codemirror_mode": {
    "name": "ipython",
    "version": 3
   },
   "file_extension": ".py",
   "mimetype": "text/x-python",
   "name": "python",
   "nbconvert_exporter": "python",
   "pygments_lexer": "ipython3",
   "version": "3.8.12"
  }
 },
 "nbformat": 4,
 "nbformat_minor": 5
}
